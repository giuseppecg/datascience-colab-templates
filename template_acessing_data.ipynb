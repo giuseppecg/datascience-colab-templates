{
  "nbformat": 4,
  "nbformat_minor": 0,
  "metadata": {
    "colab": {
      "name": "template-acessing-data.ipynb",
      "provenance": [],
      "collapsed_sections": [
        "eykGlfVTPbqq",
        "VB7Eh6VlQD1s"
      ],
      "toc_visible": true,
      "authorship_tag": "ABX9TyMUYGNOc5Tkbvb+B2V4YNPk",
      "include_colab_link": true
    },
    "kernelspec": {
      "name": "python3",
      "display_name": "Python 3"
    }
  },
  "cells": [
    {
      "cell_type": "markdown",
      "metadata": {
        "id": "view-in-github",
        "colab_type": "text"
      },
      "source": [
        "<a href=\"https://colab.research.google.com/github/heber-augusto/datascience-colab-templates/blob/master/template_acessing_data.ipynb\" target=\"_parent\"><img src=\"https://colab.research.google.com/assets/colab-badge.svg\" alt=\"Open In Colab\"/></a>"
      ]
    },
    {
      "cell_type": "markdown",
      "metadata": {
        "id": "eykGlfVTPbqq",
        "colab_type": "text"
      },
      "source": [
        "# Reading data from url"
      ]
    },
    {
      "cell_type": "code",
      "metadata": {
        "id": "9vqDS0PmOtnv",
        "colab_type": "code",
        "colab": {
          "base_uri": "https://localhost:8080/",
          "height": 427
        },
        "outputId": "6408406d-c33c-49cb-bc4f-f758109525b0"
      },
      "source": [
        "import pandas as pd\n",
        "url=\"https://introtomlsampledata.blob.core.windows.net/data/nyc-taxi/nyc-taxi-sample-data.csv\"\n",
        "nyc_taxi_dataframe = pd.read_csv(url)\n",
        "nyc_taxi_dataframe"
      ],
      "execution_count": 3,
      "outputs": [
        {
          "output_type": "execute_result",
          "data": {
            "text/html": [
              "<div>\n",
              "<style scoped>\n",
              "    .dataframe tbody tr th:only-of-type {\n",
              "        vertical-align: middle;\n",
              "    }\n",
              "\n",
              "    .dataframe tbody tr th {\n",
              "        vertical-align: top;\n",
              "    }\n",
              "\n",
              "    .dataframe thead th {\n",
              "        text-align: right;\n",
              "    }\n",
              "</style>\n",
              "<table border=\"1\" class=\"dataframe\">\n",
              "  <thead>\n",
              "    <tr style=\"text-align: right;\">\n",
              "      <th></th>\n",
              "      <th>vendorID</th>\n",
              "      <th>passengerCount</th>\n",
              "      <th>tripDistance</th>\n",
              "      <th>hour_of_day</th>\n",
              "      <th>day_of_week</th>\n",
              "      <th>day_of_month</th>\n",
              "      <th>month_num</th>\n",
              "      <th>normalizeHolidayName</th>\n",
              "      <th>isPaidTimeOff</th>\n",
              "      <th>snowDepth</th>\n",
              "      <th>precipTime</th>\n",
              "      <th>precipDepth</th>\n",
              "      <th>temperature</th>\n",
              "      <th>totalAmount</th>\n",
              "    </tr>\n",
              "  </thead>\n",
              "  <tbody>\n",
              "    <tr>\n",
              "      <th>0</th>\n",
              "      <td>1</td>\n",
              "      <td>1</td>\n",
              "      <td>9.40</td>\n",
              "      <td>15</td>\n",
              "      <td>2</td>\n",
              "      <td>27</td>\n",
              "      <td>1</td>\n",
              "      <td>None</td>\n",
              "      <td>False</td>\n",
              "      <td>29.058824</td>\n",
              "      <td>24.0</td>\n",
              "      <td>3.0</td>\n",
              "      <td>6.185714</td>\n",
              "      <td>44.30</td>\n",
              "    </tr>\n",
              "    <tr>\n",
              "      <th>1</th>\n",
              "      <td>2</td>\n",
              "      <td>5</td>\n",
              "      <td>14.75</td>\n",
              "      <td>13</td>\n",
              "      <td>4</td>\n",
              "      <td>15</td>\n",
              "      <td>1</td>\n",
              "      <td>None</td>\n",
              "      <td>False</td>\n",
              "      <td>0.000000</td>\n",
              "      <td>6.0</td>\n",
              "      <td>0.0</td>\n",
              "      <td>4.571930</td>\n",
              "      <td>44.80</td>\n",
              "    </tr>\n",
              "    <tr>\n",
              "      <th>2</th>\n",
              "      <td>2</td>\n",
              "      <td>1</td>\n",
              "      <td>3.35</td>\n",
              "      <td>23</td>\n",
              "      <td>4</td>\n",
              "      <td>8</td>\n",
              "      <td>1</td>\n",
              "      <td>None</td>\n",
              "      <td>False</td>\n",
              "      <td>0.000000</td>\n",
              "      <td>1.0</td>\n",
              "      <td>0.0</td>\n",
              "      <td>4.384091</td>\n",
              "      <td>18.96</td>\n",
              "    </tr>\n",
              "    <tr>\n",
              "      <th>3</th>\n",
              "      <td>2</td>\n",
              "      <td>1</td>\n",
              "      <td>3.33</td>\n",
              "      <td>18</td>\n",
              "      <td>2</td>\n",
              "      <td>27</td>\n",
              "      <td>1</td>\n",
              "      <td>None</td>\n",
              "      <td>False</td>\n",
              "      <td>29.058824</td>\n",
              "      <td>24.0</td>\n",
              "      <td>3.0</td>\n",
              "      <td>6.185714</td>\n",
              "      <td>16.30</td>\n",
              "    </tr>\n",
              "    <tr>\n",
              "      <th>4</th>\n",
              "      <td>2</td>\n",
              "      <td>1</td>\n",
              "      <td>0.47</td>\n",
              "      <td>17</td>\n",
              "      <td>6</td>\n",
              "      <td>3</td>\n",
              "      <td>1</td>\n",
              "      <td>None</td>\n",
              "      <td>False</td>\n",
              "      <td>0.000000</td>\n",
              "      <td>1.0</td>\n",
              "      <td>0.0</td>\n",
              "      <td>3.846429</td>\n",
              "      <td>5.30</td>\n",
              "    </tr>\n",
              "    <tr>\n",
              "      <th>...</th>\n",
              "      <td>...</td>\n",
              "      <td>...</td>\n",
              "      <td>...</td>\n",
              "      <td>...</td>\n",
              "      <td>...</td>\n",
              "      <td>...</td>\n",
              "      <td>...</td>\n",
              "      <td>...</td>\n",
              "      <td>...</td>\n",
              "      <td>...</td>\n",
              "      <td>...</td>\n",
              "      <td>...</td>\n",
              "      <td>...</td>\n",
              "      <td>...</td>\n",
              "    </tr>\n",
              "    <tr>\n",
              "      <th>11729</th>\n",
              "      <td>2</td>\n",
              "      <td>1</td>\n",
              "      <td>7.47</td>\n",
              "      <td>13</td>\n",
              "      <td>2</td>\n",
              "      <td>22</td>\n",
              "      <td>6</td>\n",
              "      <td>None</td>\n",
              "      <td>False</td>\n",
              "      <td>0.000000</td>\n",
              "      <td>1.0</td>\n",
              "      <td>0.0</td>\n",
              "      <td>25.704425</td>\n",
              "      <td>35.81</td>\n",
              "    </tr>\n",
              "    <tr>\n",
              "      <th>11730</th>\n",
              "      <td>2</td>\n",
              "      <td>1</td>\n",
              "      <td>3.76</td>\n",
              "      <td>0</td>\n",
              "      <td>3</td>\n",
              "      <td>16</td>\n",
              "      <td>6</td>\n",
              "      <td>None</td>\n",
              "      <td>False</td>\n",
              "      <td>0.000000</td>\n",
              "      <td>24.0</td>\n",
              "      <td>51.0</td>\n",
              "      <td>21.695868</td>\n",
              "      <td>16.30</td>\n",
              "    </tr>\n",
              "    <tr>\n",
              "      <th>11731</th>\n",
              "      <td>2</td>\n",
              "      <td>1</td>\n",
              "      <td>3.45</td>\n",
              "      <td>14</td>\n",
              "      <td>5</td>\n",
              "      <td>4</td>\n",
              "      <td>6</td>\n",
              "      <td>None</td>\n",
              "      <td>False</td>\n",
              "      <td>0.000000</td>\n",
              "      <td>24.0</td>\n",
              "      <td>41.0</td>\n",
              "      <td>21.990441</td>\n",
              "      <td>14.30</td>\n",
              "    </tr>\n",
              "    <tr>\n",
              "      <th>11732</th>\n",
              "      <td>1</td>\n",
              "      <td>1</td>\n",
              "      <td>20.20</td>\n",
              "      <td>1</td>\n",
              "      <td>6</td>\n",
              "      <td>19</td>\n",
              "      <td>6</td>\n",
              "      <td>None</td>\n",
              "      <td>False</td>\n",
              "      <td>0.000000</td>\n",
              "      <td>1.0</td>\n",
              "      <td>0.0</td>\n",
              "      <td>23.116071</td>\n",
              "      <td>68.15</td>\n",
              "    </tr>\n",
              "    <tr>\n",
              "      <th>11733</th>\n",
              "      <td>2</td>\n",
              "      <td>1</td>\n",
              "      <td>3.03</td>\n",
              "      <td>18</td>\n",
              "      <td>6</td>\n",
              "      <td>19</td>\n",
              "      <td>6</td>\n",
              "      <td>None</td>\n",
              "      <td>False</td>\n",
              "      <td>0.000000</td>\n",
              "      <td>1.0</td>\n",
              "      <td>0.0</td>\n",
              "      <td>23.116071</td>\n",
              "      <td>15.30</td>\n",
              "    </tr>\n",
              "  </tbody>\n",
              "</table>\n",
              "<p>11734 rows × 14 columns</p>\n",
              "</div>"
            ],
            "text/plain": [
              "       vendorID  passengerCount  ...  temperature  totalAmount\n",
              "0             1               1  ...     6.185714        44.30\n",
              "1             2               5  ...     4.571930        44.80\n",
              "2             2               1  ...     4.384091        18.96\n",
              "3             2               1  ...     6.185714        16.30\n",
              "4             2               1  ...     3.846429         5.30\n",
              "...         ...             ...  ...          ...          ...\n",
              "11729         2               1  ...    25.704425        35.81\n",
              "11730         2               1  ...    21.695868        16.30\n",
              "11731         2               1  ...    21.990441        14.30\n",
              "11732         1               1  ...    23.116071        68.15\n",
              "11733         2               1  ...    23.116071        15.30\n",
              "\n",
              "[11734 rows x 14 columns]"
            ]
          },
          "metadata": {
            "tags": []
          },
          "execution_count": 3
        }
      ]
    },
    {
      "cell_type": "markdown",
      "metadata": {
        "id": "VB7Eh6VlQD1s",
        "colab_type": "text"
      },
      "source": [
        "# Reading data from json returned from REST API"
      ]
    },
    {
      "cell_type": "markdown",
      "metadata": {
        "id": "ypKUo3Viex8y",
        "colab_type": "text"
      },
      "source": [
        "Documentation from the REST api used here as an example can be find at the url\n",
        "https://api.telemetria.hitecnologia.com.br/rest/docs/"
      ]
    },
    {
      "cell_type": "code",
      "metadata": {
        "id": "fBSUfgBuPpSo",
        "colab_type": "code",
        "colab": {
          "base_uri": "https://localhost:8080/",
          "height": 54
        },
        "outputId": "1129ea45-c452-4c99-bf5b-6ae940a07ada"
      },
      "source": [
        "import pandas as pd\n",
        "import requests\n",
        "import base64\n",
        "import json\n",
        "from getpass import getpass\n",
        "from datetime import datetime, timedelta\n",
        "\n",
        "# get user and password without showing\n",
        "base  = \"https://api.telemetria.hitecnologia.com.br/rest/v1/\"\n",
        "user = getpass('Enter the user name: ')\n",
        "pwd  = getpass('Enter the secret value: ')\n",
        "\n",
        "# encode password into base64\n",
        "p=base64.b64encode(pwd.encode())\n",
        "pwd=p.decode()\n",
        "url='{}/auth/login/'.format(base)\n",
        "headers={\n",
        "    \"Content-Type\": \"application/json\", \n",
        "    \"Accept\": \"application/json\"\n",
        "}\n",
        "data={\n",
        "    \"email\":\"{}\".format(user),\n",
        "    \"password\":\"{}\".format(pwd)\n",
        "}\n",
        "\n",
        "# request token\n",
        "response = requests.post(\n",
        "    url=url,\n",
        "    data=json.dumps(data), \n",
        "    headers=headers\n",
        ")\n",
        "result = json.loads(response.text)\n",
        "access_token = result[\"token\"]\n",
        "\n",
        "\n"
      ],
      "execution_count": 9,
      "outputs": [
        {
          "output_type": "stream",
          "text": [
            "Enter the user name: ··········\n",
            "Enter the secret value: ··········\n"
          ],
          "name": "stdout"
        }
      ]
    },
    {
      "cell_type": "code",
      "metadata": {
        "id": "kNBK1_P5QIRn",
        "colab_type": "code",
        "colab": {}
      },
      "source": [
        "# get start and end datetime with ISO8601 format considering the last 24 hours\n",
        "now_dt   = datetime.now()\n",
        "end      = now_dt.isoformat()\n",
        "start    = (now_dt - timedelta(days=1)).isoformat()\n",
        "\n",
        "# format url to call rest api\n",
        "data_ids = '128,129'\n",
        "history_url = f'{base}data_history/?format=json&data_ids={data_ids}&start={start}&end={end}'\n",
        "\n",
        "header={\n",
        "    \"Content-Type\": \"application/json\", \n",
        "    \"Accept\": \"application/json\",\n",
        "    \"Authorization\":\"Bearer {0}\".format(access_token),\n",
        "}\n",
        "\n",
        "# get temperature and humidity sensor values from last 24h\n",
        "response = requests.get(history_url, headers=header)\n",
        "df = pd.read_json(response.text)\n",
        "# transform datetime column\n",
        "df['date_time'] = pd.to_datetime(df['date_time'])\n"
      ],
      "execution_count": 56,
      "outputs": []
    },
    {
      "cell_type": "markdown",
      "metadata": {
        "id": "d1tATHryeBUq",
        "colab_type": "text"
      },
      "source": [
        "**Plot data returned from REST API grouping by id**"
      ]
    },
    {
      "cell_type": "code",
      "metadata": {
        "id": "FHpEOBnbSXnG",
        "colab_type": "code",
        "colab": {
          "base_uri": "https://localhost:8080/",
          "height": 381
        },
        "outputId": "eaf22e12-6193-4f4f-f875-0c99030fd85b"
      },
      "source": [
        "import matplotlib.pylab as plt\n",
        "\n",
        "fig, ax = plt.subplots(figsize=(8,6))\n",
        "\n",
        "# group by data_id \n",
        "# data_id 128 is temperature \n",
        "# data_id 129 is humidity\n",
        "_ = df.groupby('data_id').plot(\n",
        "    kind='line', \n",
        "    x = \"date_time\", \n",
        "    y = \"value\", \n",
        "    ax=ax)\n",
        "ax.legend(['temperature', 'humidity'])\n",
        "ax.set_ylim(ymin=0)\n",
        "plt.show()\n",
        "\n",
        "\n",
        "\n"
      ],
      "execution_count": 57,
      "outputs": [
        {
          "output_type": "display_data",
          "data": {
            "image/png": "[encoded data removed]",
            "text/plain": [
              "<Figure size 576x432 with 1 Axes>"
            ]
          },
          "metadata": {
            "tags": [],
            "needs_background": "light"
          }
        }
      ]
    },
    {
      "cell_type": "markdown",
      "metadata": {
        "id": "iXbN7P85e8f1",
        "colab_type": "text"
      },
      "source": [
        "# Reading dataframe from files\n",
        "\n",
        "\n",
        "*   excel;\n",
        "*   csv.\n",
        "\n"
      ]
    },
    {
      "cell_type": "code",
      "metadata": {
        "id": "oMc-WgEQfEQW",
        "colab_type": "code",
        "colab": {}
      },
      "source": [
        "import pandas as pd\n",
        "import requests\n",
        "\n",
        "filename = \"example_file.xlsx\"\n",
        "ret = requests.get('https://raw.githubusercontent.com/heber-augusto/datascience-colab-templates/master/example_file.xlsx')\n",
        "\n",
        "# save into current dir\n",
        "f = open(filename, \"wb\")\n",
        "f.write(ret.content)\n",
        "f.close()\n",
        "\n",
        "# load dataframe from excel file\n",
        "df = pd.read_excel(filename)\n",
        "df['Timestamp'] = pd.to_datetime(df['Timestamp'], format='%d/%m/%Y %H:%M:%S')"
      ],
      "execution_count": 91,
      "outputs": []
    },
    {
      "cell_type": "code",
      "metadata": {
        "id": "J3My0OobgQgx",
        "colab_type": "code",
        "colab": {
          "base_uri": "https://localhost:8080/",
          "height": 380
        },
        "outputId": "dfdf6dd3-9a17-4d06-9302-fdefe1210c28"
      },
      "source": [
        "import matplotlib.pylab as plt\n",
        "\n",
        "fig, ax = plt.subplots(figsize=(8,6))\n",
        "\n",
        "_ = df.plot(\n",
        "    kind='line', \n",
        "    x = \"Timestamp\", \n",
        "    ax=ax)\n",
        "ax.set_ylim(ymin=0)\n",
        "plt.show()\n",
        "\n"
      ],
      "execution_count": 94,
      "outputs": [
        {
          "output_type": "display_data",
          "data": {
            "image/png": "[encoded data removed]",
            "text/plain": [
              "<Figure size 576x432 with 1 Axes>"
            ]
          },
          "metadata": {
            "tags": [],
            "needs_background": "light"
          }
        }
      ]
    },
    {
      "cell_type": "code",
      "metadata": {
        "id": "Mb4v8ohjgZwd",
        "colab_type": "code",
        "colab": {}
      },
      "source": [
        "# load dataframe from excel file\n",
        "df = pd.read_csv('https://raw.githubusercontent.com/heber-augusto/datascience-colab-templates/master/example_file.csv')\n",
        "df['Timestamp'] = pd.to_datetime(df['Timestamp'], format='%d/%m/%Y %H:%M:%S')\n"
      ],
      "execution_count": 98,
      "outputs": []
    },
    {
      "cell_type": "code",
      "metadata": {
        "id": "i-UX1e4AhlQE",
        "colab_type": "code",
        "colab": {
          "base_uri": "https://localhost:8080/",
          "height": 380
        },
        "outputId": "105fdf3b-3b97-476a-9c19-5e1aa63e0891"
      },
      "source": [
        "import matplotlib.pylab as plt\n",
        "\n",
        "fig, ax = plt.subplots(figsize=(8,6))\n",
        "\n",
        "_ = df.plot(\n",
        "    kind='line', \n",
        "    x = \"Timestamp\", \n",
        "    ax=ax)\n",
        "ax.set_ylim(ymin=0)\n",
        "plt.show()"
      ],
      "execution_count": 99,
      "outputs": [
        {
          "output_type": "display_data",
          "data": {
            "image/png": "[encoded data removed]",
            "text/plain": [
              "<Figure size 576x432 with 1 Axes>"
            ]
          },
          "metadata": {
            "tags": [],
            "needs_background": "light"
          }
        }
      ]
    },
    {
      "cell_type": "markdown",
      "metadata": {
        "id": "wsKNmQkQm4iI",
        "colab_type": "text"
      },
      "source": [
        "# Reading dataframe from oracle\n",
        "\n",
        "Some installation into linux has to be done (https://cx-oracle.readthedocs.io/en/latest/user_guide/installation.html). There are some possible incompatibilities here. The code bellow did not run into Google Colab yet."
      ]
    },
    {
      "cell_type": "code",
      "metadata": {
        "id": "aq8jVAT-m24j",
        "colab_type": "code",
        "colab": {
          "base_uri": "https://localhost:8080/",
          "height": 128
        },
        "outputId": "e05aa419-b957-44e8-d4fb-c1e9b8412edd"
      },
      "source": [
        "!pip install cx_Oracle\n",
        "\n"
      ],
      "execution_count": 101,
      "outputs": [
        {
          "output_type": "stream",
          "text": [
            "Collecting cx_Oracle\n",
            "\u001b[?25l  Downloading https://files.pythonhosted.org/packages/9f/ce/9117cc84d05800b7962f1842bf5fb20455ee08264cda052a3c79d476cf01/cx_Oracle-8.0.1-cp36-cp36m-manylinux1_x86_64.whl (756kB)\n",
            "\u001b[K     |████████████████████████████████| 757kB 2.8MB/s \n",
            "\u001b[?25hInstalling collected packages: cx-Oracle\n",
            "Successfully installed cx-Oracle-8.0.1\n"
          ],
          "name": "stdout"
        }
      ]
    },
    {
      "cell_type": "code",
      "metadata": {
        "id": "SI8S4HF4nybQ",
        "colab_type": "code",
        "colab": {}
      },
      "source": [
        "import cx_Oracle\n",
        "import os\n",
        "import datetime\n",
        "\n",
        "#parameters to connect to Oracle database (there is a Docker file at the repo \n",
        "#to create a database instance)\n",
        "ip = 'database'\n",
        "port = 1521\n",
        "SID = 'sid'\n",
        "user = 'user'\n",
        "password = 'password'\n",
        "\n",
        "dsn_tns = cx_Oracle.makedsn(ip, port, SID)\n",
        "#encoding and access parameters depends on database installation\n",
        "connection = cx_Oracle.connect(user, \n",
        "                               password, \n",
        "                               dsn_tns, \n",
        "                               encoding = \"UTF-8\", \n",
        "                               nencoding = \"UTF-8\")\n"
      ],
      "execution_count": null,
      "outputs": []
    },
    {
      "cell_type": "code",
      "metadata": {
        "id": "ruSNtw1Cn-UZ",
        "colab_type": "code",
        "colab": {}
      },
      "source": [
        "def create_csvfile_from_query(\n",
        "    connection, query, output_file): \n",
        "    \"\"\"function to create csv file using query results:\n",
        "\n",
        "    Args:\n",
        "        connection (): connection to database.\n",
        "        query (str): string containing query.\n",
        "        output_file (str): output filename.\n",
        "    Returns:\n",
        "        Nothing\n",
        "    \"\"\"\n",
        "    # limit the chuncksize to avoid Memory Error\n",
        "    reader       = pd.read_sql(query, connection, chunksize=50000)\n",
        "\n",
        "    #read chuncks until the end\n",
        "    for chunk in reader:\n",
        "        temp_regs = chunk\n",
        "        # append or create file\n",
        "        if os.path.isfile(output_file):\n",
        "            temp_regs.to_csv(output_file,encoding='utf-8', mode='a', header=False)\n",
        "        else:\n",
        "            temp_regs.to_csv(output_file,encoding='utf-8')"
      ],
      "execution_count": null,
      "outputs": []
    },
    {
      "cell_type": "markdown",
      "metadata": {
        "id": "TGsQN-xQpXrR",
        "colab_type": "text"
      },
      "source": [
        "# Reading dataframe from PostgreSQL\n",
        "\n",
        "The code bellow was tested with a database but access information was removed.\n"
      ]
    },
    {
      "cell_type": "code",
      "metadata": {
        "id": "5nX0AFxApWYC",
        "colab_type": "code",
        "colab": {
          "base_uri": "https://localhost:8080/",
          "height": 35
        },
        "outputId": "5c79b801-2177-4ac2-fafc-d05292243760"
      },
      "source": [
        "!pip install psycopg2"
      ],
      "execution_count": 103,
      "outputs": [
        {
          "output_type": "stream",
          "text": [
            "Requirement already satisfied: psycopg2 in /usr/local/lib/python3.6/dist-packages (2.7.6.1)\n"
          ],
          "name": "stdout"
        }
      ]
    },
    {
      "cell_type": "code",
      "metadata": {
        "id": "41MhlOk-prSL",
        "colab_type": "code",
        "colab": {
          "base_uri": "https://localhost:8080/",
          "height": 92
        },
        "outputId": "014e3c57-1477-4864-c3e5-7bf9456e4b48"
      },
      "source": [
        "import pandas as pd\n",
        "from getpass import getpass\n",
        "import psycopg2\n",
        "\n",
        "your_pass = getpass(prompt='Password: ', stream=None)\n",
        "conn_cred = {\n",
        "    'host': your_host,\n",
        "    'port': your_port,\n",
        "    'dbname': your_databse,\n",
        "    'user': your_user,\n",
        "    'password': your_pass\n",
        "}\n",
        "conn = psycopg2.connect(**conn_cred)"
      ],
      "execution_count": 105,
      "outputs": [
        {
          "output_type": "stream",
          "text": [
            "/usr/local/lib/python3.6/dist-packages/psycopg2/__init__.py:144: UserWarning: The psycopg2 wheel package will be renamed from release 2.8; in order to keep installing from binary please use \"pip install psycopg2-binary\" instead. For details see: <http://initd.org/psycopg/docs/install.html#binary-install-from-pypi>.\n",
            "  \"\"\")\n"
          ],
          "name": "stderr"
        },
        {
          "output_type": "stream",
          "text": [
            "Password: ··········\n"
          ],
          "name": "stdout"
        }
      ]
    },
    {
      "cell_type": "code",
      "metadata": {
        "id": "dhp3VlLuqM-W",
        "colab_type": "code",
        "colab": {}
      },
      "source": [
        "def create_csvfile_from_query(\n",
        "    connection, query, output_file): \n",
        "    \"\"\"function to create csv file using query results:\n",
        "\n",
        "    Args:\n",
        "        connection (): connection to database.\n",
        "        query (str): string containing query.\n",
        "        output_file (str): output filename.\n",
        "    Returns:\n",
        "        Nothing\n",
        "    \"\"\"\n",
        "    # limit the chuncksize to avoid Memory Error\n",
        "    reader       = pd.read_sql(query, connection, chunksize=50000)\n",
        "\n",
        "    #read chuncks until the end\n",
        "    for chunk in reader:\n",
        "        temp_regs = chunk\n",
        "        # append or create file\n",
        "        if os.path.isfile(output_file):\n",
        "            temp_regs.to_csv(output_file,encoding='utf-8', mode='a', header=False)\n",
        "        else:\n",
        "            temp_regs.to_csv(output_file,encoding='utf-8')"
      ],
      "execution_count": 106,
      "outputs": []
    },
    {
      "cell_type": "code",
      "metadata": {
        "id": "yW_roEZFqPXc",
        "colab_type": "code",
        "colab": {}
      },
      "source": [
        "create_csvfile_from_query(\n",
        "    conn, \n",
        "    'select * from table1 LIMIT 100000',\n",
        "    'output.csv')"
      ],
      "execution_count": 108,
      "outputs": []
    },
    {
      "cell_type": "markdown",
      "metadata": {
        "id": "VidgLDU1ruRk",
        "colab_type": "text"
      },
      "source": [
        ""
      ]
    }
  ]
}